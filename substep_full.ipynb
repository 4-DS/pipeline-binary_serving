{
 "cells": [
  {
   "cell_type": "code",
   "execution_count": null,
   "id": "870a1090-f4ae-45a0-aa93-0960f5c6478d",
   "metadata": {},
   "outputs": [],
   "source": [
    "%load_ext autoreload\n",
    "%autoreload 2"
   ]
  },
  {
   "cell_type": "code",
   "execution_count": null,
   "id": "ddfb1b95",
   "metadata": {},
   "outputs": [],
   "source": [
    "#2. specify parameters\n",
    "pipeline_params={\n",
    "    \"X\": \"something\"\n",
    "}\n",
    "step_params={\n",
    "    \"X\": \"something_else\"\n",
    "}\n",
    "substep_params={\n",
    "    \"param1\":\"None1\",\n",
    "    \"param2\":\"None2\"}"
   ]
  },
  {
   "cell_type": "code",
   "execution_count": null,
   "id": "f3818420-6085-43ea-b97e-578742794e1e",
   "metadata": {
    "tags": []
   },
   "outputs": [],
   "source": [
    "#3 define substep interface\n",
    "from sinara.substep import NotebookSubstep, default_param_values, ENV_NAME, PIPELINE_NAME, ZONE_NAME, STEP_NAME, RUN_ID, ENTITY_NAME, ENTITY_PATH, SUBSTEP_NAME\n",
    "\n",
    "substep = NotebookSubstep(pipeline_params, step_params, substep_params, **default_param_values(\"params/step_params.json\"))\n",
    "\n",
    "substep.interface(\n",
    "    \n",
    "    outputs = \n",
    "    [\n",
    "        { ENTITY_NAME: \"bento_service\" }\n",
    "    ],\n",
    "\n",
    ")\n",
    "\n",
    "substep.print_interface_info()\n",
    "\n",
    "substep.exit_in_visualize_mode()"
   ]
  },
  {
   "cell_type": "code",
   "execution_count": null,
   "id": "55e950c3-3151-4daf-9b98-83d3aebe216d",
   "metadata": {},
   "outputs": [],
   "source": [
    "# Train\n",
    "import pytorch_lightning as pl\n",
    "import numpy as np\n",
    "import torch\n",
    "from torch.nn import MSELoss\n",
    "from torch.optim import Adam\n",
    "from torch.utils.data import DataLoader, Dataset\n",
    "import torch.nn as nn\n",
    "\n",
    "from bentoservice import SimplePytorchLightning\n",
    "\n",
    "\n",
    "class SimpleDataset(Dataset):\n",
    "    def __init__(self):\n",
    "        X = np.arange(10000)\n",
    "        y = X * 2\n",
    "        X = [[_] for _ in X]\n",
    "        y = [[_] for _ in y]\n",
    "        self.X = torch.Tensor(X)\n",
    "        self.y = torch.Tensor(y)\n",
    "\n",
    "    def __len__(self):\n",
    "        return len(self.y)\n",
    "\n",
    "    def __getitem__(self, idx):\n",
    "        return {\"X\": self.X[idx], \"y\": self.y[idx]}\n",
    "\n",
    "\n",
    "class MyModel(pl.LightningModule):\n",
    "    def __init__(self):\n",
    "        super().__init__()\n",
    "        self.fc = nn.Linear(1, 1)\n",
    "        self.criterion = MSELoss()\n",
    "\n",
    "    def forward(self, inputs_id, labels=None):\n",
    "        outputs = self.fc(inputs_id)\n",
    "        loss = 0\n",
    "        if labels is not None:\n",
    "            loss = self.criterion(outputs, labels)\n",
    "        return loss, outputs\n",
    "\n",
    "    def train_dataloader(self):\n",
    "        dataset = SimpleDataset()\n",
    "        return DataLoader(dataset, batch_size=1000)\n",
    "\n",
    "    def training_step(self, batch, batch_idx):\n",
    "        input_ids = batch[\"X\"]\n",
    "        labels = batch[\"y\"]\n",
    "        loss, outputs = self(input_ids, labels)\n",
    "        return {\"loss\": loss}\n",
    "\n",
    "    def configure_optimizers(self):\n",
    "        optimizer = Adam(self.parameters())\n",
    "        return optimizer\n",
    "\n",
    "model = MyModel()\n",
    "trainer = pl.Trainer(max_epochs=20, gpus=1)\n",
    "trainer.fit(model)\n",
    "\n",
    "# Create a iris classifier service with the newly trained model\n",
    "simple_pytorch_lightning_service = SimplePytorchLightning()\n",
    "simple_pytorch_lightning_service.pack(\"model\", model)"
   ]
  },
  {
   "cell_type": "code",
   "execution_count": null,
   "id": "9111cdef",
   "metadata": {},
   "outputs": [],
   "source": [
    "# Test model API\n",
    "from sinara.bentoml import start_dev_bentoservice, stop_dev_bentoservice\n",
    "\n",
    "# Test invoking BentoService instance\n",
    "X = torch.Tensor([[1.0], [51.0], [89.0]])\n",
    "_, y = model(X)\n",
    "print(y)\n",
    "\n",
    "# Start a dev model server to test out the API endpoint locally\n",
    "start_dev_bentoservice(simple_pytorch_lightning_service)\n",
    "\n",
    "# Stop the dev model server\n",
    "stop_dev_bentoservice(simple_pytorch_lightning_service)"
   ]
  },
  {
   "cell_type": "code",
   "execution_count": null,
   "id": "70b2d9b3-051c-424c-beec-9da8f177b4ed",
   "metadata": {},
   "outputs": [],
   "source": [
    "# Serve model\n",
    "from sinara.bentoml import save_bentoservice\n",
    "\n",
    "outputs = substep.outputs()\n",
    "\n",
    "# Save the entire prediction service to a BentoML bundle\n",
    "save_bentoservice(simple_pytorch_lightning_service, path=outputs.bento_service, service_version=f\"{outputs.fullname('bento_service')}.{substep.run_id}\")\n",
    " "
   ]
  }
 ],
 "metadata": {
  "kernelspec": {
   "display_name": "Python 3 (ipykernel)",
   "language": "python",
   "name": "python3"
  },
  "language_info": {
   "codemirror_mode": {
    "name": "ipython",
    "version": 3
   },
   "file_extension": ".py",
   "mimetype": "text/x-python",
   "name": "python",
   "nbconvert_exporter": "python",
   "pygments_lexer": "ipython3",
   "version": "3.10.9"
  }
 },
 "nbformat": 4,
 "nbformat_minor": 5
}
